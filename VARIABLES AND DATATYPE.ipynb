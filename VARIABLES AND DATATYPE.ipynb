{
 "cells": [
  {
   "cell_type": "code",
   "execution_count": 4,
   "id": "7de206bc",
   "metadata": {},
   "outputs": [
    {
     "data": {
      "text/plain": [
       "'Hello Everyone I am a python Programmercnvjnckljn \\nvlcnvlcnvcnvcvnvlnvlnvlnvnvnvvncvvnddldldd;lddlldldll\\ndvnvvnvnvnnvif you wnat to know more about me, \\ncontact me thourh ipgsc.co'"
      ]
     },
     "execution_count": 4,
     "metadata": {},
     "output_type": "execute_result"
    }
   ],
   "source": [
    "\"\"\"Hello Everyone I am a python Programmercnvjnckljn \n",
    "vlcnvlcnvcnvcvnvlnvlnvlnvnvnvvncvvnddldldd;lddlldldll\n",
    "dvnvvnvnvnnvif you wnat to know more about me, \n",
    "contact me thourh ipgsc.co\"\"\""
   ]
  },
  {
   "cell_type": "code",
   "execution_count": 5,
   "id": "a5cfd219",
   "metadata": {},
   "outputs": [],
   "source": [
    "Age = 40"
   ]
  },
  {
   "cell_type": "code",
   "execution_count": 7,
   "id": "a2cee8dc",
   "metadata": {},
   "outputs": [
    {
     "name": "stdout",
     "output_type": "stream",
     "text": [
      "40\n"
     ]
    }
   ],
   "source": [
    "print(Age)"
   ]
  },
  {
   "cell_type": "markdown",
   "id": "1965d1ac",
   "metadata": {},
   "source": [
    "# HOW TO CREATE VARIABLE"
   ]
  },
  {
   "cell_type": "code",
   "execution_count": 19,
   "id": "796798e7",
   "metadata": {},
   "outputs": [],
   "source": [
    "c = 40 # this is an inter value\n",
    "y = \"Ade\" # this is a string value and a string values must be enclosed with a quotation mark els you will reciev error message\n",
    "z = 3.5"
   ]
  },
  {
   "cell_type": "code",
   "execution_count": 11,
   "id": "e279baf0",
   "metadata": {},
   "outputs": [
    {
     "name": "stdout",
     "output_type": "stream",
     "text": [
      "40\n",
      "Ade\n"
     ]
    }
   ],
   "source": [
    "print (c)\n",
    "print(y)\n"
   ]
  },
  {
   "cell_type": "code",
   "execution_count": 12,
   "id": "080591b5",
   "metadata": {},
   "outputs": [],
   "source": [
    "My_favourite_Fruit = \"Apple\", \"Orange\", \"Banana\""
   ]
  },
  {
   "cell_type": "code",
   "execution_count": 13,
   "id": "826160fc",
   "metadata": {},
   "outputs": [
    {
     "name": "stdout",
     "output_type": "stream",
     "text": [
      "('Apple', 'Orange', 'Banana')\n"
     ]
    }
   ],
   "source": [
    "print(My_favourite_Fruit)"
   ]
  },
  {
   "cell_type": "code",
   "execution_count": 14,
   "id": "0f5210d8",
   "metadata": {},
   "outputs": [
    {
     "data": {
      "text/plain": [
       "int"
      ]
     },
     "execution_count": 14,
     "metadata": {},
     "output_type": "execute_result"
    }
   ],
   "source": [
    "type(c)"
   ]
  },
  {
   "cell_type": "code",
   "execution_count": 15,
   "id": "41993af4",
   "metadata": {},
   "outputs": [
    {
     "name": "stdout",
     "output_type": "stream",
     "text": [
      "<class 'int'>\n"
     ]
    }
   ],
   "source": [
    "print(type(c))"
   ]
  },
  {
   "cell_type": "code",
   "execution_count": 16,
   "id": "13a9a5bd",
   "metadata": {},
   "outputs": [
    {
     "name": "stdout",
     "output_type": "stream",
     "text": [
      "<class 'str'>\n"
     ]
    }
   ],
   "source": [
    "print(type(y))"
   ]
  },
  {
   "cell_type": "code",
   "execution_count": 20,
   "id": "b60f2cb4",
   "metadata": {},
   "outputs": [
    {
     "name": "stdout",
     "output_type": "stream",
     "text": [
      "<class 'float'>\n"
     ]
    }
   ],
   "source": [
    "print(type(z))"
   ]
  },
  {
   "cell_type": "markdown",
   "id": "413d7093",
   "metadata": {},
   "source": [
    "# Multi Words Variable Names"
   ]
  },
  {
   "cell_type": "markdown",
   "id": "c5351d75",
   "metadata": {},
   "source": [
    "## CAMEL CASE"
   ]
  },
  {
   "cell_type": "code",
   "execution_count": 21,
   "id": "2e5c37ae",
   "metadata": {},
   "outputs": [],
   "source": [
    "myFirstName = \"Israel\"#Each word, except the first, starts with a capital letter:"
   ]
  },
  {
   "cell_type": "code",
   "execution_count": 22,
   "id": "8f4a59b7",
   "metadata": {},
   "outputs": [
    {
     "name": "stdout",
     "output_type": "stream",
     "text": [
      "Israel\n"
     ]
    }
   ],
   "source": [
    "print(myFirstName)"
   ]
  },
  {
   "cell_type": "code",
   "execution_count": 23,
   "id": "c1c4d5de",
   "metadata": {},
   "outputs": [],
   "source": [
    "branchInflow = 3000000"
   ]
  },
  {
   "cell_type": "code",
   "execution_count": 24,
   "id": "59062f06",
   "metadata": {},
   "outputs": [],
   "source": [
    "averageScore = 48\n",
    "totalScore = 90\n",
    "commulativeTotalScore = 130"
   ]
  },
  {
   "cell_type": "markdown",
   "id": "ceaf8cd2",
   "metadata": {},
   "source": [
    "# Pascal Case"
   ]
  },
  {
   "cell_type": "code",
   "execution_count": 25,
   "id": "81226a47",
   "metadata": {},
   "outputs": [],
   "source": [
    "AverageScore = 98 #Each word starts with a capital letter:\n",
    "TotalScore = 100\n",
    "CommulativeTotalScore = 150"
   ]
  },
  {
   "cell_type": "code",
   "execution_count": 27,
   "id": "31e09d09",
   "metadata": {},
   "outputs": [
    {
     "name": "stdout",
     "output_type": "stream",
     "text": [
      "48\n",
      "98\n"
     ]
    }
   ],
   "source": [
    "print(averageScore)\n",
    "print(AverageScore)"
   ]
  },
  {
   "cell_type": "markdown",
   "id": "600bd89e",
   "metadata": {},
   "source": [
    "# Snake Case"
   ]
  },
  {
   "cell_type": "code",
   "execution_count": 28,
   "id": "a4ec92c9",
   "metadata": {},
   "outputs": [],
   "source": [
    "average_score = 36  #Each word is separated by an underscore character"
   ]
  },
  {
   "cell_type": "code",
   "execution_count": 29,
   "id": "16fa460f",
   "metadata": {},
   "outputs": [
    {
     "data": {
      "text/plain": [
       "36"
      ]
     },
     "execution_count": 29,
     "metadata": {},
     "output_type": "execute_result"
    }
   ],
   "source": [
    "average_score "
   ]
  },
  {
   "cell_type": "markdown",
   "id": "aae6cfdd",
   "metadata": {},
   "source": [
    "# Python Variables - Assign Multiple Values\n",
    "# Many Values to Multiple Variables"
   ]
  },
  {
   "cell_type": "code",
   "execution_count": 30,
   "id": "2807085b",
   "metadata": {},
   "outputs": [],
   "source": [
    "Israel, Christiana, Ade =\"Apple\", \"Water Mellon\", \"Pinapple\""
   ]
  },
  {
   "cell_type": "code",
   "execution_count": 31,
   "id": "2ff8f1b5",
   "metadata": {},
   "outputs": [
    {
     "name": "stdout",
     "output_type": "stream",
     "text": [
      "Apple\n",
      "Water Mellon\n",
      "Pinapple\n"
     ]
    }
   ],
   "source": [
    "print(Israel)\n",
    "print(Christiana)\n",
    "print(Ade)"
   ]
  },
  {
   "cell_type": "code",
   "execution_count": 36,
   "id": "3cba31a2",
   "metadata": {},
   "outputs": [],
   "source": [
    "Israel1=Christiana1=Ade1=\"Banana\""
   ]
  },
  {
   "cell_type": "code",
   "execution_count": 37,
   "id": "5e3104bf",
   "metadata": {},
   "outputs": [
    {
     "name": "stdout",
     "output_type": "stream",
     "text": [
      "Banana\n",
      "Banana\n",
      "Banana\n"
     ]
    }
   ],
   "source": [
    "print(Israel1)\n",
    "print(Christiana1)\n",
    "print(Ade1)"
   ]
  },
  {
   "cell_type": "code",
   "execution_count": null,
   "id": "690e0606",
   "metadata": {},
   "outputs": [],
   "source": []
  }
 ],
 "metadata": {
  "kernelspec": {
   "display_name": "Python 3 (ipykernel)",
   "language": "python",
   "name": "python3"
  },
  "language_info": {
   "codemirror_mode": {
    "name": "ipython",
    "version": 3
   },
   "file_extension": ".py",
   "mimetype": "text/x-python",
   "name": "python",
   "nbconvert_exporter": "python",
   "pygments_lexer": "ipython3",
   "version": "3.11.5"
  }
 },
 "nbformat": 4,
 "nbformat_minor": 5
}
