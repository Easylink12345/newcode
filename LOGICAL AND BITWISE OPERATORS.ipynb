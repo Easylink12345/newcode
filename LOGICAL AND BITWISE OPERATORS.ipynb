{
 "cells": [
  {
   "cell_type": "code",
   "execution_count": 1,
   "id": "72c2cc5b",
   "metadata": {},
   "outputs": [
    {
     "name": "stdout",
     "output_type": "stream",
     "text": [
      "Logical Operators\n"
     ]
    }
   ],
   "source": [
    "print(\"Logical Operators\")"
   ]
  },
  {
   "cell_type": "code",
   "execution_count": 2,
   "id": "7e3f60fe",
   "metadata": {},
   "outputs": [
    {
     "name": "stdout",
     "output_type": "stream",
     "text": [
      "True\n"
     ]
    }
   ],
   "source": [
    "a = True\n",
    "b = False\n",
    "print(a)"
   ]
  },
  {
   "cell_type": "code",
   "execution_count": 3,
   "id": "b49f3ccf",
   "metadata": {},
   "outputs": [
    {
     "name": "stdout",
     "output_type": "stream",
     "text": [
      "False\n"
     ]
    }
   ],
   "source": [
    "print(b)"
   ]
  },
  {
   "cell_type": "code",
   "execution_count": 4,
   "id": "910a77c9",
   "metadata": {},
   "outputs": [
    {
     "name": "stdout",
     "output_type": "stream",
     "text": [
      "False\n"
     ]
    }
   ],
   "source": [
    "print(a and b)"
   ]
  },
  {
   "cell_type": "code",
   "execution_count": 5,
   "id": "e6778706",
   "metadata": {},
   "outputs": [
    {
     "name": "stdout",
     "output_type": "stream",
     "text": [
      "True\n"
     ]
    }
   ],
   "source": [
    "print(a or b)"
   ]
  },
  {
   "cell_type": "code",
   "execution_count": 7,
   "id": "765ea93d",
   "metadata": {},
   "outputs": [
    {
     "name": "stdout",
     "output_type": "stream",
     "text": [
      "False\n"
     ]
    }
   ],
   "source": [
    "print (not a)"
   ]
  },
  {
   "cell_type": "code",
   "execution_count": 8,
   "id": "64371c71",
   "metadata": {},
   "outputs": [
    {
     "name": "stdout",
     "output_type": "stream",
     "text": [
      "True\n"
     ]
    }
   ],
   "source": [
    "print(not b)"
   ]
  },
  {
   "cell_type": "markdown",
   "id": "423dfdaa",
   "metadata": {},
   "source": [
    "# BITWISE OPERATOR"
   ]
  },
  {
   "cell_type": "code",
   "execution_count": 9,
   "id": "9941040b",
   "metadata": {},
   "outputs": [
    {
     "name": "stdout",
     "output_type": "stream",
     "text": [
      "5\n"
     ]
    }
   ],
   "source": [
    "w = 13 #1101\n",
    "t =5 # 101\n",
    "print( w & t)"
   ]
  },
  {
   "cell_type": "code",
   "execution_count": 13,
   "id": "d552d8ec",
   "metadata": {},
   "outputs": [
    {
     "ename": "SyntaxError",
     "evalue": "unterminated string literal (detected at line 1) (428280630.py, line 1)",
     "output_type": "error",
     "traceback": [
      "\u001b[1;36m  Cell \u001b[1;32mIn[13], line 1\u001b[1;36m\u001b[0m\n\u001b[1;33m    print(\"w & t:\" ({bin(w & t)})\")\u001b[0m\n\u001b[1;37m                                 ^\u001b[0m\n\u001b[1;31mSyntaxError\u001b[0m\u001b[1;31m:\u001b[0m unterminated string literal (detected at line 1)\n"
     ]
    }
   ],
   "source": [
    "print(\"w & t:\" ({bin(w & t)})\")"
   ]
  },
  {
   "cell_type": "markdown",
   "id": "ed7e0134",
   "metadata": {},
   "source": [
    "# PYTHON STRING"
   ]
  },
  {
   "cell_type": "code",
   "execution_count": 16,
   "id": "a5976ca1",
   "metadata": {},
   "outputs": [
    {
     "name": "stdout",
     "output_type": "stream",
     "text": [
      "Isreal\n"
     ]
    }
   ],
   "source": [
    "#Strings are non numeric values in python programming\n",
    "name = \"Isreal\"\n",
    "print(name)"
   ]
  },
  {
   "cell_type": "code",
   "execution_count": 17,
   "id": "68825731",
   "metadata": {},
   "outputs": [
    {
     "name": "stdout",
     "output_type": "stream",
     "text": [
      "Isreal\n"
     ]
    }
   ],
   "source": [
    "print(name)"
   ]
  },
  {
   "cell_type": "markdown",
   "id": "93dd527c",
   "metadata": {},
   "source": [
    "# STRING SLISING"
   ]
  },
  {
   "cell_type": "code",
   "execution_count": 18,
   "id": "d8228e6f",
   "metadata": {},
   "outputs": [
    {
     "data": {
      "text/plain": [
       "'e'"
      ]
     },
     "execution_count": 18,
     "metadata": {},
     "output_type": "execute_result"
    }
   ],
   "source": [
    "Greet =\"Hello WOrld\"\n",
    "Greet[1]"
   ]
  },
  {
   "cell_type": "code",
   "execution_count": 19,
   "id": "59a5ee0b",
   "metadata": {},
   "outputs": [
    {
     "data": {
      "text/plain": [
       "'d'"
      ]
     },
     "execution_count": 19,
     "metadata": {},
     "output_type": "execute_result"
    }
   ],
   "source": [
    "Greet[-1]"
   ]
  },
  {
   "cell_type": "code",
   "execution_count": 20,
   "id": "adc8e26a",
   "metadata": {},
   "outputs": [
    {
     "data": {
      "text/plain": [
       "'ll'"
      ]
     },
     "execution_count": 20,
     "metadata": {},
     "output_type": "execute_result"
    }
   ],
   "source": [
    "Greet[2:4]"
   ]
  },
  {
   "cell_type": "code",
   "execution_count": 21,
   "id": "5094cb57",
   "metadata": {},
   "outputs": [
    {
     "name": "stdout",
     "output_type": "stream",
     "text": [
      "True\n"
     ]
    }
   ],
   "source": [
    "#list\n",
    "e = [1,2,5,4,8,7]\n",
    "print(2 in e)"
   ]
  },
  {
   "cell_type": "code",
   "execution_count": 23,
   "id": "e1e064ab",
   "metadata": {},
   "outputs": [
    {
     "name": "stdout",
     "output_type": "stream",
     "text": [
      "True\n"
     ]
    }
   ],
   "source": [
    "print(9 not in e)"
   ]
  },
  {
   "cell_type": "markdown",
   "id": "a9da025b",
   "metadata": {},
   "source": [
    "# string concatenation"
   ]
  },
  {
   "cell_type": "code",
   "execution_count": 31,
   "id": "fc7e8f91",
   "metadata": {},
   "outputs": [
    {
     "name": "stdout",
     "output_type": "stream",
     "text": [
      "HELLO Christiana\n"
     ]
    }
   ],
   "source": [
    "a=\"HELLO\"\n",
    "b=\"Christiana\"\n",
    "c = a +  \" \"  +  b\n",
    "print(c)"
   ]
  },
  {
   "cell_type": "code",
   "execution_count": 36,
   "id": "895a3a11",
   "metadata": {},
   "outputs": [],
   "source": [
    "q = \"Israel\"\n",
    "r = \"is 40 years old\"\n",
    "d = q+ \" \"+ r"
   ]
  },
  {
   "cell_type": "code",
   "execution_count": 37,
   "id": "1092595e",
   "metadata": {},
   "outputs": [
    {
     "data": {
      "text/plain": [
       "'Israel is 40 years old'"
      ]
     },
     "execution_count": 37,
     "metadata": {},
     "output_type": "execute_result"
    }
   ],
   "source": [
    "d"
   ]
  },
  {
   "cell_type": "code",
   "execution_count": null,
   "id": "a3d4ad90",
   "metadata": {},
   "outputs": [],
   "source": []
  }
 ],
 "metadata": {
  "kernelspec": {
   "display_name": "Python 3 (ipykernel)",
   "language": "python",
   "name": "python3"
  },
  "language_info": {
   "codemirror_mode": {
    "name": "ipython",
    "version": 3
   },
   "file_extension": ".py",
   "mimetype": "text/x-python",
   "name": "python",
   "nbconvert_exporter": "python",
   "pygments_lexer": "ipython3",
   "version": "3.11.5"
  }
 },
 "nbformat": 4,
 "nbformat_minor": 5
}
