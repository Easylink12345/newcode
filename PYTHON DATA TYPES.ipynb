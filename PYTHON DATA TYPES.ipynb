{
 "cells": [
  {
   "cell_type": "markdown",
   "id": "bff887ef",
   "metadata": {},
   "source": [
    "# INTODUCTION TO PYTHON DATA TYPES"
   ]
  },
  {
   "cell_type": "code",
   "execution_count": 4,
   "id": "78fc6df2",
   "metadata": {},
   "outputs": [],
   "source": [
    "#Some built-in Python data types are: \n",
    "#Numeric data types: int, float, complex.\n",
    "#String data types: str.\n",
    "#Sequence types: list, tuple, range.\n",
    "#Binary types: bytes, bytearray, memoryview.\n",
    "#Mapping data type: dict.\n",
    "#Boolean type: bool.\n",
    "#Set data types: set, frozenset.\n",
    "\n",
    "\n",
    "X1 = 50\n",
    "X2 = 50.90\n",
    "X3 = 5j\n",
    "name = \"solomon Jack\"\n",
    "myFavouritFruits = [\"Apple\", \"Watermellon\", \"Orange\", \"Banana\", \"Kiwi\" ]\n",
    "states=(\"Lagos\", \"Ogun\", \"Abuja\", \"Rivers\", \"Kogi\")\n",
    "s =range(6)\n",
    "#t = b(5)\n",
    "stateAndCapital = {\"Abia\":\"Umuahia\", \"Lagos\":\"Ikeja\"}\n",
    "set1 = {20, 10, 9,\"israel\"}"
   ]
  },
  {
   "cell_type": "code",
   "execution_count": 14,
   "id": "539dc17d",
   "metadata": {},
   "outputs": [
    {
     "name": "stdout",
     "output_type": "stream",
     "text": [
      "<class 'int'>\n",
      "<class 'float'>\n",
      "<class 'complex'>\n",
      "<class 'str'>\n",
      "<class 'list'>\n",
      "<class 'tuple'>\n",
      "<class 'range'>\n",
      "<class 'dict'>\n",
      "<class 'set'>\n"
     ]
    }
   ],
   "source": [
    "# For you to chech trhe data type of  variable, you need to use the type() method\n",
    "print(type(X1))\n",
    "print(type(X2))\n",
    "print(type(X3))\n",
    "print(type(name))\n",
    "print(type(myFavouritFruits))\n",
    "print(type(states))\n",
    "print(type(s))\n",
    "print(type(stateAndCapital))\n",
    "print(type(set1))"
   ]
  },
  {
   "cell_type": "markdown",
   "id": "65417df1",
   "metadata": {},
   "source": [
    "# PYTHON STRINGS"
   ]
  },
  {
   "cell_type": "code",
   "execution_count": 17,
   "id": "72e1ecf8",
   "metadata": {},
   "outputs": [
    {
     "name": "stdout",
     "output_type": "stream",
     "text": [
      "Taiwo\n",
      "Taiwo\n",
      "Taiwo\n",
      "Taiwo\n",
      "Taiwo\n",
      "Taiwo\n",
      "Taiwo\n",
      "Taiwo\n",
      "Taiwo\n",
      "Taiwo\n",
      "Taiwo\n",
      "Taiwo\n"
     ]
    }
   ],
   "source": [
    "myName = \"Taiwo\"\n",
    "for x in name:\n",
    "    print(myName)"
   ]
  },
  {
   "cell_type": "code",
   "execution_count": 18,
   "id": "10e8cb17",
   "metadata": {},
   "outputs": [
    {
     "name": "stdout",
     "output_type": "stream",
     "text": [
      "T\n",
      "a\n",
      "i\n",
      "w\n",
      "o\n"
     ]
    }
   ],
   "source": [
    "for i in \"Taiwo\":\n",
    "    print(i)"
   ]
  },
  {
   "cell_type": "markdown",
   "id": "311f1c13",
   "metadata": {},
   "source": [
    "# PYTHON LISING"
   ]
  },
  {
   "cell_type": "code",
   "execution_count": 30,
   "id": "a45563ed",
   "metadata": {},
   "outputs": [
    {
     "name": "stdout",
     "output_type": "stream",
     "text": [
      "l\n",
      "S\n",
      "fu Is\n",
      "Salif\n",
      "srael\n"
     ]
    }
   ],
   "source": [
    "newName= \"Salifu Israel\"\n",
    "print(newName[-1])\n",
    "print(newName[0])\n",
    "print(newName[4:9])\n",
    "print(newName[:5])\n",
    "print(newName[-5:])"
   ]
  },
  {
   "cell_type": "markdown",
   "id": "d32cc660",
   "metadata": {},
   "source": [
    "# PYTHON STRING FORMATTING"
   ]
  },
  {
   "cell_type": "code",
   "execution_count": 31,
   "id": "1fd36f35",
   "metadata": {},
   "outputs": [],
   "source": [
    "myWife = \"Favour\""
   ]
  },
  {
   "cell_type": "code",
   "execution_count": 32,
   "id": "42655fb7",
   "metadata": {},
   "outputs": [
    {
     "data": {
      "text/plain": [
       "'Favour'"
      ]
     },
     "execution_count": 32,
     "metadata": {},
     "output_type": "execute_result"
    }
   ],
   "source": [
    "myWife"
   ]
  },
  {
   "cell_type": "code",
   "execution_count": 36,
   "id": "3a95ea83",
   "metadata": {},
   "outputs": [
    {
     "name": "stdout",
     "output_type": "stream",
     "text": [
      "FAVOUR\n"
     ]
    }
   ],
   "source": [
    "print(myWife.upper())"
   ]
  },
  {
   "cell_type": "code",
   "execution_count": 37,
   "id": "3f859f5c",
   "metadata": {},
   "outputs": [
    {
     "name": "stdout",
     "output_type": "stream",
     "text": [
      "favour\n"
     ]
    }
   ],
   "source": [
    "print(myWife.lower())"
   ]
  },
  {
   "cell_type": "code",
   "execution_count": 38,
   "id": "cd1215e8",
   "metadata": {},
   "outputs": [],
   "source": [
    "#automationstepbystep.com\n"
   ]
  },
  {
   "cell_type": "code",
   "execution_count": null,
   "id": "d40fbfa1",
   "metadata": {},
   "outputs": [],
   "source": []
  }
 ],
 "metadata": {
  "kernelspec": {
   "display_name": "Python 3 (ipykernel)",
   "language": "python",
   "name": "python3"
  },
  "language_info": {
   "codemirror_mode": {
    "name": "ipython",
    "version": 3
   },
   "file_extension": ".py",
   "mimetype": "text/x-python",
   "name": "python",
   "nbconvert_exporter": "python",
   "pygments_lexer": "ipython3",
   "version": "3.11.5"
  }
 },
 "nbformat": 4,
 "nbformat_minor": 5
}
