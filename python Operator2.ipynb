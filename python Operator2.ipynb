{
 "cells": [
  {
   "cell_type": "markdown",
   "id": "03f4358b",
   "metadata": {},
   "source": [
    "# floor division"
   ]
  },
  {
   "cell_type": "code",
   "execution_count": 1,
   "id": "28f7a1e3",
   "metadata": {},
   "outputs": [],
   "source": [
    "a = 5"
   ]
  },
  {
   "cell_type": "code",
   "execution_count": 2,
   "id": "d901788f",
   "metadata": {},
   "outputs": [
    {
     "data": {
      "text/plain": [
       "2"
      ]
     },
     "execution_count": 2,
     "metadata": {},
     "output_type": "execute_result"
    }
   ],
   "source": [
    "a//2"
   ]
  },
  {
   "cell_type": "markdown",
   "id": "a9c67c61",
   "metadata": {},
   "source": [
    "# MODULUS OPERATOR"
   ]
  },
  {
   "cell_type": "code",
   "execution_count": 3,
   "id": "135504aa",
   "metadata": {},
   "outputs": [
    {
     "data": {
      "text/plain": [
       "1"
      ]
     },
     "execution_count": 3,
     "metadata": {},
     "output_type": "execute_result"
    }
   ],
   "source": [
    "a%2"
   ]
  },
  {
   "cell_type": "markdown",
   "id": "a375ab01",
   "metadata": {},
   "source": [
    "# Python Assignment Operators"
   ]
  },
  {
   "cell_type": "code",
   "execution_count": null,
   "id": "aeaed5f7",
   "metadata": {},
   "outputs": [],
   "source": [
    "# The equal to sign \n",
    "word = \"yes\"\n",
    "name = \"israel\"\n",
    "age = 56\n",
    "time = 12"
   ]
  },
  {
   "cell_type": "code",
   "execution_count": null,
   "id": "f1cbd533",
   "metadata": {},
   "outputs": [],
   "source": [
    "print(word)\n",
    "print(name)\n",
    "print(age)\n",
    "print(time)"
   ]
  },
  {
   "cell_type": "code",
   "execution_count": 5,
   "id": "c427bdc9",
   "metadata": {},
   "outputs": [
    {
     "ename": "NameError",
     "evalue": "name 'word' is not defined",
     "output_type": "error",
     "traceback": [
      "\u001b[1;31m---------------------------------------------------------------------------\u001b[0m",
      "\u001b[1;31mNameError\u001b[0m                                 Traceback (most recent call last)",
      "Cell \u001b[1;32mIn[5], line 1\u001b[0m\n\u001b[1;32m----> 1\u001b[0m word\n",
      "\u001b[1;31mNameError\u001b[0m: name 'word' is not defined"
     ]
    }
   ],
   "source": [
    "word"
   ]
  },
  {
   "cell_type": "code",
   "execution_count": 4,
   "id": "d50baae2",
   "metadata": {},
   "outputs": [
    {
     "data": {
      "text/plain": [
       "12"
      ]
     },
     "execution_count": 4,
     "metadata": {},
     "output_type": "execute_result"
    }
   ],
   "source": [
    "3*4"
   ]
  },
  {
   "cell_type": "markdown",
   "id": "f21eb891",
   "metadata": {},
   "source": [
    "# increment assignment operator"
   ]
  },
  {
   "cell_type": "code",
   "execution_count": 6,
   "id": "d4b65355",
   "metadata": {},
   "outputs": [],
   "source": [
    "x =90\n",
    "x=x+10"
   ]
  },
  {
   "cell_type": "code",
   "execution_count": 7,
   "id": "1951d6ae",
   "metadata": {},
   "outputs": [
    {
     "name": "stdout",
     "output_type": "stream",
     "text": [
      "100\n"
     ]
    }
   ],
   "source": [
    "print(x)"
   ]
  },
  {
   "cell_type": "code",
   "execution_count": 8,
   "id": "597d0526",
   "metadata": {},
   "outputs": [],
   "source": [
    "y =90\n",
    "y+=10\n"
   ]
  },
  {
   "cell_type": "code",
   "execution_count": 9,
   "id": "fc9da1d9",
   "metadata": {},
   "outputs": [
    {
     "name": "stdout",
     "output_type": "stream",
     "text": [
      "100\n"
     ]
    }
   ],
   "source": [
    "print(y)"
   ]
  },
  {
   "cell_type": "code",
   "execution_count": 13,
   "id": "054dcd91",
   "metadata": {},
   "outputs": [],
   "source": [
    "age = 16\n",
    "age+=6 # This code is similar to age =age+6"
   ]
  },
  {
   "cell_type": "code",
   "execution_count": 11,
   "id": "1ee86839",
   "metadata": {},
   "outputs": [
    {
     "name": "stdout",
     "output_type": "stream",
     "text": [
      "22\n"
     ]
    }
   ],
   "source": [
    "print(age)"
   ]
  },
  {
   "cell_type": "code",
   "execution_count": 14,
   "id": "c56edab8",
   "metadata": {},
   "outputs": [],
   "source": [
    "distance = 20\n",
    "distance = distance +5"
   ]
  },
  {
   "cell_type": "code",
   "execution_count": 15,
   "id": "445a2d5f",
   "metadata": {},
   "outputs": [
    {
     "data": {
      "text/plain": [
       "25"
      ]
     },
     "execution_count": 15,
     "metadata": {},
     "output_type": "execute_result"
    }
   ],
   "source": [
    "distance"
   ]
  },
  {
   "cell_type": "code",
   "execution_count": 27,
   "id": "8ee39103",
   "metadata": {},
   "outputs": [],
   "source": [
    "disc = 60\n",
    "disc+=10"
   ]
  },
  {
   "cell_type": "code",
   "execution_count": 19,
   "id": "b2db4810",
   "metadata": {},
   "outputs": [
    {
     "data": {
      "text/plain": [
       "70"
      ]
     },
     "execution_count": 19,
     "metadata": {},
     "output_type": "execute_result"
    }
   ],
   "source": [
    "disc"
   ]
  },
  {
   "cell_type": "code",
   "execution_count": 26,
   "id": "729ddd8a",
   "metadata": {},
   "outputs": [
    {
     "ename": "SyntaxError",
     "evalue": "invalid syntax (2069584252.py, line 1)",
     "output_type": "error",
     "traceback": [
      "\u001b[1;36m  Cell \u001b[1;32mIn[26], line 1\u001b[1;36m\u001b[0m\n\u001b[1;33m    disc1= disc-5// THIS IS THE TRADITIONAL METGHOD\u001b[0m\n\u001b[1;37m                         ^\u001b[0m\n\u001b[1;31mSyntaxError\u001b[0m\u001b[1;31m:\u001b[0m invalid syntax\n"
     ]
    }
   ],
   "source": [
    "disc1= disc-5// THIS IS THE TRADITIONAL METGHOD\n",
    "disc2-=6 // THIS IS THE MOST EFFICIENT METHOD"
   ]
  },
  {
   "cell_type": "code",
   "execution_count": 24,
   "id": "607e60fe",
   "metadata": {},
   "outputs": [
    {
     "ename": "NameError",
     "evalue": "name 'disc2' is not defined",
     "output_type": "error",
     "traceback": [
      "\u001b[1;31m---------------------------------------------------------------------------\u001b[0m",
      "\u001b[1;31mNameError\u001b[0m                                 Traceback (most recent call last)",
      "Cell \u001b[1;32mIn[24], line 1\u001b[0m\n\u001b[1;32m----> 1\u001b[0m disc2\n",
      "\u001b[1;31mNameError\u001b[0m: name 'disc2' is not defined"
     ]
    }
   ],
   "source": [
    "disc2"
   ]
  },
  {
   "cell_type": "markdown",
   "id": "4be8a345",
   "metadata": {},
   "source": [
    "# EXPONENTIAL INCREAMENT "
   ]
  },
  {
   "cell_type": "code",
   "execution_count": 28,
   "id": "f20522a2",
   "metadata": {},
   "outputs": [],
   "source": [
    "W = 3\n",
    "W = W*3/TRADITIONAL WAY"
   ]
  },
  {
   "cell_type": "code",
   "execution_count": 29,
   "id": "23336dda",
   "metadata": {},
   "outputs": [
    {
     "data": {
      "text/plain": [
       "9"
      ]
     },
     "execution_count": 29,
     "metadata": {},
     "output_type": "execute_result"
    }
   ],
   "source": [
    "W"
   ]
  },
  {
   "cell_type": "code",
   "execution_count": 30,
   "id": "3460680b",
   "metadata": {},
   "outputs": [],
   "source": [
    "Y = 3\n",
    "Y*=3"
   ]
  },
  {
   "cell_type": "code",
   "execution_count": 31,
   "id": "4d348778",
   "metadata": {},
   "outputs": [
    {
     "data": {
      "text/plain": [
       "9"
      ]
     },
     "execution_count": 31,
     "metadata": {},
     "output_type": "execute_result"
    }
   ],
   "source": [
    "Y"
   ]
  },
  {
   "cell_type": "code",
   "execution_count": 33,
   "id": "b587bd08",
   "metadata": {},
   "outputs": [
    {
     "name": "stdout",
     "output_type": "stream",
     "text": [
      "9\n"
     ]
    }
   ],
   "source": [
    "print(Y)"
   ]
  },
  {
   "cell_type": "code",
   "execution_count": 34,
   "id": "f0332835",
   "metadata": {},
   "outputs": [],
   "source": [
    "y =Y/2"
   ]
  },
  {
   "cell_type": "code",
   "execution_count": 35,
   "id": "d5478679",
   "metadata": {},
   "outputs": [
    {
     "data": {
      "text/plain": [
       "4.5"
      ]
     },
     "execution_count": 35,
     "metadata": {},
     "output_type": "execute_result"
    }
   ],
   "source": [
    "y"
   ]
  },
  {
   "cell_type": "code",
   "execution_count": 40,
   "id": "f52328e8",
   "metadata": {},
   "outputs": [],
   "source": [
    "Y/=2"
   ]
  },
  {
   "cell_type": "code",
   "execution_count": 41,
   "id": "4cfcba57",
   "metadata": {},
   "outputs": [
    {
     "data": {
      "text/plain": [
       "2.25"
      ]
     },
     "execution_count": 41,
     "metadata": {},
     "output_type": "execute_result"
    }
   ],
   "source": [
    "y"
   ]
  },
  {
   "cell_type": "code",
   "execution_count": 42,
   "id": "8bd49b61",
   "metadata": {},
   "outputs": [
    {
     "name": "stdout",
     "output_type": "stream",
     "text": [
      "10.0\n"
     ]
    }
   ],
   "source": [
    "t = 50\n",
    "t/=5\n",
    "print(t)"
   ]
  },
  {
   "cell_type": "code",
   "execution_count": 43,
   "id": "d6fdba43",
   "metadata": {},
   "outputs": [],
   "source": [
    "q = 80\n",
    "q%=3"
   ]
  },
  {
   "cell_type": "code",
   "execution_count": 44,
   "id": "4aca514f",
   "metadata": {},
   "outputs": [
    {
     "name": "stdout",
     "output_type": "stream",
     "text": [
      "2\n"
     ]
    }
   ],
   "source": [
    "print(q)"
   ]
  },
  {
   "cell_type": "code",
   "execution_count": 45,
   "id": "a6af40ba",
   "metadata": {},
   "outputs": [],
   "source": [
    "x = 3\n",
    "x = x&3"
   ]
  },
  {
   "cell_type": "code",
   "execution_count": 46,
   "id": "d03c882c",
   "metadata": {},
   "outputs": [
    {
     "name": "stdout",
     "output_type": "stream",
     "text": [
      "3\n"
     ]
    }
   ],
   "source": [
    "print(x)"
   ]
  },
  {
   "cell_type": "code",
   "execution_count": 47,
   "id": "4c630203",
   "metadata": {},
   "outputs": [],
   "source": [
    "x1 = 3\n",
    "x1&=3"
   ]
  },
  {
   "cell_type": "code",
   "execution_count": 48,
   "id": "d2365334",
   "metadata": {},
   "outputs": [
    {
     "name": "stdout",
     "output_type": "stream",
     "text": [
      "3\n"
     ]
    }
   ],
   "source": [
    "print(x1)"
   ]
  },
  {
   "cell_type": "markdown",
   "id": "9e9957cd",
   "metadata": {},
   "source": [
    "# Python Identity Operators"
   ]
  },
  {
   "cell_type": "code",
   "execution_count": 52,
   "id": "6f5637a0",
   "metadata": {},
   "outputs": [],
   "source": [
    "# (is)is a python identity operator and it returns True if both variables are the same object\n",
    "y = 5\n",
    "x = 4\n"
   ]
  },
  {
   "cell_type": "code",
   "execution_count": 53,
   "id": "6f351e42",
   "metadata": {},
   "outputs": [
    {
     "name": "stdout",
     "output_type": "stream",
     "text": [
      "False\n"
     ]
    }
   ],
   "source": [
    "print (y is x)"
   ]
  },
  {
   "cell_type": "code",
   "execution_count": 54,
   "id": "4e9405ed",
   "metadata": {},
   "outputs": [
    {
     "name": "stdout",
     "output_type": "stream",
     "text": [
      "False\n"
     ]
    }
   ],
   "source": [
    "israelAge = 35\n",
    "christianaAge = 30\n",
    "print(israelAge==christianaAge)"
   ]
  },
  {
   "cell_type": "code",
   "execution_count": 55,
   "id": "a0cdd3d5",
   "metadata": {},
   "outputs": [
    {
     "name": "stdout",
     "output_type": "stream",
     "text": [
      "True\n"
     ]
    }
   ],
   "source": [
    "print(israelAge>christianaAge)"
   ]
  },
  {
   "cell_type": "code",
   "execution_count": 56,
   "id": "daea8957",
   "metadata": {},
   "outputs": [
    {
     "name": "stdout",
     "output_type": "stream",
     "text": [
      "False\n"
     ]
    }
   ],
   "source": [
    "print(israelAge<christianaAge)"
   ]
  },
  {
   "cell_type": "markdown",
   "id": "869a1e34",
   "metadata": {},
   "source": [
    "# (Is not ) identity operator"
   ]
  },
  {
   "cell_type": "code",
   "execution_count": 57,
   "id": "3319dec4",
   "metadata": {},
   "outputs": [
    {
     "name": "stdout",
     "output_type": "stream",
     "text": [
      "True\n"
     ]
    }
   ],
   "source": [
    "shoesize =55\n",
    "clothesize = 30\n",
    "print(shoesize is not clothesize)"
   ]
  },
  {
   "cell_type": "markdown",
   "id": "2c31142c",
   "metadata": {},
   "source": [
    "#  Python COMPARISON  Operator"
   ]
  },
  {
   "cell_type": "code",
   "execution_count": 60,
   "id": "d70b35ff",
   "metadata": {},
   "outputs": [
    {
     "data": {
      "text/plain": [
       "'Python Comparison Operators\\nComparison operators are used to comparing two values:\\nOperator Name Example\\n== Equal x == y\\n!= Not equal x != y\\n> Greater than x > y\\n< Less than x < y\\n>= Greater than or equal to or equal to x >= y\\n<= Less than or equal to x <=y'"
      ]
     },
     "execution_count": 60,
     "metadata": {},
     "output_type": "execute_result"
    }
   ],
   "source": [
    "\"\"\"Python Comparison Operators\n",
    "Comparison operators are used to comparing two values:\n",
    "Operator Name Example\n",
    "== Equal x == y\n",
    "!= Not equal x != y\n",
    "> Greater than x > y\n",
    "< Less than x < y\n",
    ">= Greater than or equal to or equal to x >= y\n",
    "<= Less than or equal to x <=y\"\"\""
   ]
  },
  {
   "cell_type": "code",
   "execution_count": 63,
   "id": "362aa0c3",
   "metadata": {},
   "outputs": [
    {
     "name": "stdout",
     "output_type": "stream",
     "text": [
      "False\n"
     ]
    }
   ],
   "source": [
    "Israel = 40\n",
    "print(Israel>=43)"
   ]
  },
  {
   "cell_type": "code",
   "execution_count": null,
   "id": "76cd84e3",
   "metadata": {},
   "outputs": [],
   "source": []
  }
 ],
 "metadata": {
  "kernelspec": {
   "display_name": "Python 3 (ipykernel)",
   "language": "python",
   "name": "python3"
  },
  "language_info": {
   "codemirror_mode": {
    "name": "ipython",
    "version": 3
   },
   "file_extension": ".py",
   "mimetype": "text/x-python",
   "name": "python",
   "nbconvert_exporter": "python",
   "pygments_lexer": "ipython3",
   "version": "3.11.5"
  }
 },
 "nbformat": 4,
 "nbformat_minor": 5
}
