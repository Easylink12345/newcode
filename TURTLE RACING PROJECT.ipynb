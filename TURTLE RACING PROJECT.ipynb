{
 "cells": [
  {
   "cell_type": "code",
   "execution_count": 2,
   "id": "95151593",
   "metadata": {},
   "outputs": [
    {
     "ename": "IndentationError",
     "evalue": "expected an indented block after function definition on line 1 (3267588850.py, line 2)",
     "output_type": "error",
     "traceback": [
      "\u001b[1;36m  Cell \u001b[1;32mIn[2], line 2\u001b[1;36m\u001b[0m\n\u001b[1;33m    if (k > 0 ):\u001b[0m\n\u001b[1;37m    ^\u001b[0m\n\u001b[1;31mIndentationError\u001b[0m\u001b[1;31m:\u001b[0m expected an indented block after function definition on line 1\n"
     ]
    }
   ],
   "source": [
    "def recursion1(k):\n",
    "if (k > 0 ):\n",
    "    result = k + recursion1(k - 1 )\n",
    "    print(result)\n",
    "else:\n",
    "    result = 0\n",
    "return result\n",
    "print( \"\\n\\nRecursion Example Results\" )\n",
    "tri_recursion( 6 )"
   ]
  },
  {
   "cell_type": "code",
   "execution_count": 3,
   "id": "5a8a9439",
   "metadata": {},
   "outputs": [
    {
     "name": "stdout",
     "output_type": "stream",
     "text": [
      "Samuel_Team wins the race!\n"
     ]
    }
   ],
   "source": [
    "# PYTHON TURTLE RACING GAME PROJECT 2\n",
    "\n",
    "# importing relevant modules for this project\n",
    "import turtle\n",
    "import time\n",
    "import random\n",
    "\n",
    "#Now we need to setup a beautiful gaming environment!\n",
    "screen = turtle.Screen()\n",
    "screen.bgcolor(\"pink\") #bgcolor is used for background colour\n",
    "\n",
    "# Now we need to create players for this game and the idea is that whover gets to the\n",
    "# to the end first wins\n",
    "\n",
    "#Player one setup\n",
    "samuel_team = turtle.Turtle()\n",
    "#Set a colour for samuel_team\n",
    "samuel_team.color(\"red\")\n",
    "# Now let's make samuel team turtle shape\n",
    "samuel_team.shape(\"turtle\")\n",
    "\n",
    "\n",
    "#Player two setup\n",
    "ebube_team = turtle.Turtle()\n",
    "#Set a colour for ebube_team\n",
    "ebube_team.color(\"blue\")\n",
    "# Now let's make ebube team turtle shape\n",
    "ebube_team.shape(\"turtle\")\n",
    "\n",
    "# Now let's make samuel team turtle shape\n",
    "ebube_team.shape(\"turtle\")\n",
    "\n",
    "# Now we have to position our players in two differnt location\n",
    "ebube_team.penup()\n",
    "ebube_team.goto(-190, 180)\n",
    "\n",
    "# Now let' draw a finish line for the race\n",
    "samuel_team.goto(150, -190)\n",
    "samuel_team.left(90)\n",
    "samuel_team.pendown()\n",
    "samuel_team.color(\"black\")\n",
    "samuel_team.forward(379)\n",
    "samuel_team.write(\"finish\", font = 8)\n",
    "\n",
    "# Now we need to allow samuel_Team to go back to it's starting position\n",
    "\n",
    "samuel_team.penup()\n",
    "samuel_team.color(\"red\")\n",
    "samuel_team.goto(190, -150)\n",
    "samuel_team.left(90)\n",
    "samuel_team.forward(379)\n",
    "samuel_team.right(180)\n",
    "\n",
    "\n",
    "#Now we need to make sure both players have their pen down\n",
    "samuel_team.pendown()\n",
    "ebube_team.pendown()\n",
    "\n",
    "# Let's create values for the die\n",
    "die = [1,2,3,4,5,6] # this type of values is called a LIST in python\n",
    "\n",
    "# What we need to do now is to create the game!!!\n",
    "for i in range(30):\n",
    "  if samuel_team.pos()>=(150, 190):\n",
    "    print(\"Samuel_Team wins the race!\")\n",
    "    break\n",
    "  elif ebube_team.pos()>=(150, 190):\n",
    "    print(\"Ebube_Team wins the race!\")\n",
    "    break\n",
    "  else:\n",
    "    die_roll = random.choice(die)\n",
    "    samuel_team.forward(30*die_roll)\n",
    "    time.sleep(2)\n",
    "    die_roll2 = random.choice(die)\n",
    "ebube_team.forward(30*die_roll)\n",
    "time.sleep(2)\n",
    "  \n",
    "    \n"
   ]
  },
  {
   "cell_type": "code",
   "execution_count": null,
   "id": "5f525eb4",
   "metadata": {},
   "outputs": [],
   "source": []
  }
 ],
 "metadata": {
  "kernelspec": {
   "display_name": "Python 3 (ipykernel)",
   "language": "python",
   "name": "python3"
  },
  "language_info": {
   "codemirror_mode": {
    "name": "ipython",
    "version": 3
   },
   "file_extension": ".py",
   "mimetype": "text/x-python",
   "name": "python",
   "nbconvert_exporter": "python",
   "pygments_lexer": "ipython3",
   "version": "3.11.5"
  }
 },
 "nbformat": 4,
 "nbformat_minor": 5
}
