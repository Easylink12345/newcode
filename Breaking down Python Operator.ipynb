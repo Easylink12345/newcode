{
 "cells": [
  {
   "cell_type": "code",
   "execution_count": 7,
   "id": "f464e0ca",
   "metadata": {},
   "outputs": [
    {
     "name": "stdout",
     "output_type": "stream",
     "text": [
      "Ade is 30 years\n"
     ]
    }
   ],
   "source": [
    "x = \"30 years\"\n",
    "print(\"Ade is\" + \"\", x)"
   ]
  },
  {
   "cell_type": "markdown",
   "id": "03621194",
   "metadata": {},
   "source": [
    "# PYHON ARITHEMETIC OPERATOR"
   ]
  },
  {
   "cell_type": "code",
   "execution_count": 8,
   "id": "a9cb01a9",
   "metadata": {},
   "outputs": [
    {
     "name": "stdout",
     "output_type": "stream",
     "text": [
      "120\n"
     ]
    }
   ],
   "source": [
    "#ADDITION\n",
    "print(50+70)"
   ]
  },
  {
   "cell_type": "code",
   "execution_count": 9,
   "id": "1d49a08a",
   "metadata": {},
   "outputs": [],
   "source": [
    "ade = 83\n",
    "israel = 70\n",
    "christiana = 90"
   ]
  },
  {
   "cell_type": "code",
   "execution_count": 11,
   "id": "763f6682",
   "metadata": {},
   "outputs": [
    {
     "name": "stdout",
     "output_type": "stream",
     "text": [
      "243\n"
     ]
    }
   ],
   "source": [
    "print(ade+israel+christiana)"
   ]
  },
  {
   "cell_type": "code",
   "execution_count": 15,
   "id": "561c4bff",
   "metadata": {},
   "outputs": [],
   "source": [
    "x = \"Yes\"\n",
    "y = \"No\"\n",
    "z =\"None\""
   ]
  },
  {
   "cell_type": "code",
   "execution_count": 20,
   "id": "ee481ce9",
   "metadata": {},
   "outputs": [
    {
     "ename": "SyntaxError",
     "evalue": "invalid syntax. Perhaps you forgot a comma? (2284992972.py, line 1)",
     "output_type": "error",
     "traceback": [
      "\u001b[1;36m  Cell \u001b[1;32mIn[20], line 1\u001b[1;36m\u001b[0m\n\u001b[1;33m    print(x+y z)\u001b[0m\n\u001b[1;37m          ^\u001b[0m\n\u001b[1;31mSyntaxError\u001b[0m\u001b[1;31m:\u001b[0m invalid syntax. Perhaps you forgot a comma?\n"
     ]
    }
   ],
   "source": [
    "print(x+y+z)#This is my students first headache"
   ]
  },
  {
   "cell_type": "code",
   "execution_count": 21,
   "id": "69207b20",
   "metadata": {},
   "outputs": [],
   "source": [
    "yearofBirth= 1988\n",
    "currentYear = 2024\n",
    "age =currentYear-yearofBirth"
   ]
  },
  {
   "cell_type": "code",
   "execution_count": 28,
   "id": "c9e1e887",
   "metadata": {},
   "outputs": [
    {
     "name": "stdout",
     "output_type": "stream",
     "text": [
      "36\n"
     ]
    }
   ],
   "source": [
    "print( age)"
   ]
  },
  {
   "cell_type": "code",
   "execution_count": 29,
   "id": "bc2987a4",
   "metadata": {},
   "outputs": [
    {
     "data": {
      "text/plain": [
       "int"
      ]
     },
     "execution_count": 29,
     "metadata": {},
     "output_type": "execute_result"
    }
   ],
   "source": [
    "type(age)"
   ]
  },
  {
   "cell_type": "code",
   "execution_count": 30,
   "id": "f621d56e",
   "metadata": {},
   "outputs": [
    {
     "name": "stdout",
     "output_type": "stream",
     "text": [
      "1000\n"
     ]
    }
   ],
   "source": [
    "print(5000-4000)"
   ]
  },
  {
   "cell_type": "markdown",
   "id": "4c668efe",
   "metadata": {},
   "source": [
    "# MULTIPLICATIVE OPERATOR"
   ]
  },
  {
   "cell_type": "code",
   "execution_count": 31,
   "id": "80a4e698",
   "metadata": {},
   "outputs": [
    {
     "name": "stdout",
     "output_type": "stream",
     "text": [
      "23.2\n"
     ]
    }
   ],
   "source": [
    "print(5.8*4)"
   ]
  },
  {
   "cell_type": "code",
   "execution_count": 32,
   "id": "5548b5e9",
   "metadata": {},
   "outputs": [
    {
     "name": "stdout",
     "output_type": "stream",
     "text": [
      "4230.0\n"
     ]
    }
   ],
   "source": [
    "R = 70.5\n",
    "U = 60\n",
    "print(R*U)"
   ]
  },
  {
   "cell_type": "code",
   "execution_count": 33,
   "id": "81058563",
   "metadata": {},
   "outputs": [
    {
     "data": {
      "text/plain": [
       "float"
      ]
     },
     "execution_count": 33,
     "metadata": {},
     "output_type": "execute_result"
    }
   ],
   "source": [
    "type(R)"
   ]
  },
  {
   "cell_type": "code",
   "execution_count": 34,
   "id": "287aea3a",
   "metadata": {},
   "outputs": [
    {
     "data": {
      "text/plain": [
       "int"
      ]
     },
     "execution_count": 34,
     "metadata": {},
     "output_type": "execute_result"
    }
   ],
   "source": [
    "type(U)"
   ]
  },
  {
   "cell_type": "code",
   "execution_count": 37,
   "id": "9d8d6f1c",
   "metadata": {},
   "outputs": [
    {
     "name": "stdout",
     "output_type": "stream",
     "text": [
      "125.0\n"
     ]
    }
   ],
   "source": [
    "print(500/4)"
   ]
  },
  {
   "cell_type": "code",
   "execution_count": 38,
   "id": "ba55c843",
   "metadata": {},
   "outputs": [
    {
     "name": "stdout",
     "output_type": "stream",
     "text": [
      "25.0\n"
     ]
    }
   ],
   "source": [
    "m =50\n",
    "e = 2\n",
    "print(m/e)"
   ]
  },
  {
   "cell_type": "markdown",
   "id": "4ace02bd",
   "metadata": {},
   "source": [
    "# PEDMAS \n",
    "# # p =PARENTESIS , E= EXPO, D = DIVISION, M= MALTIPLICATION, A= ADDITION, S= SUBTRACTION"
   ]
  },
  {
   "cell_type": "code",
   "execution_count": 40,
   "id": "76b5df94",
   "metadata": {},
   "outputs": [],
   "source": [
    "#ODDER OF PRESCEDENTS\n",
    "P = 1000\n",
    "R = 30\n",
    "T =6\n",
    "I =((P*R*T)/100)+50"
   ]
  },
  {
   "cell_type": "code",
   "execution_count": 41,
   "id": "78765bd7",
   "metadata": {},
   "outputs": [
    {
     "data": {
      "text/plain": [
       "1850.0"
      ]
     },
     "execution_count": 41,
     "metadata": {},
     "output_type": "execute_result"
    }
   ],
   "source": [
    "I"
   ]
  },
  {
   "cell_type": "code",
   "execution_count": 42,
   "id": "72ca9db9",
   "metadata": {},
   "outputs": [
    {
     "name": "stdout",
     "output_type": "stream",
     "text": [
      "1\n"
     ]
    }
   ],
   "source": [
    "print(11%2) #11 modulus 2"
   ]
  },
  {
   "cell_type": "code",
   "execution_count": 43,
   "id": "08aa22f7",
   "metadata": {},
   "outputs": [
    {
     "name": "stdout",
     "output_type": "stream",
     "text": [
      "0\n"
     ]
    }
   ],
   "source": [
    "print(24%4)#24 modulus 4"
   ]
  },
  {
   "cell_type": "code",
   "execution_count": 44,
   "id": "f9dfb9bc",
   "metadata": {},
   "outputs": [
    {
     "name": "stdout",
     "output_type": "stream",
     "text": [
      "5\n"
     ]
    }
   ],
   "source": [
    "print(11//2)# flood division"
   ]
  },
  {
   "cell_type": "code",
   "execution_count": 45,
   "id": "36798f6c",
   "metadata": {},
   "outputs": [
    {
     "name": "stdout",
     "output_type": "stream",
     "text": [
      "6\n"
     ]
    }
   ],
   "source": [
    "print(27//4)"
   ]
  },
  {
   "cell_type": "code",
   "execution_count": 46,
   "id": "7c7884ec",
   "metadata": {},
   "outputs": [
    {
     "name": "stdout",
     "output_type": "stream",
     "text": [
      "3\n"
     ]
    }
   ],
   "source": [
    "print(27%4)"
   ]
  },
  {
   "cell_type": "markdown",
   "id": "b8b79aab",
   "metadata": {},
   "source": [
    "# exponentiation"
   ]
  },
  {
   "cell_type": "code",
   "execution_count": 48,
   "id": "bad9612f",
   "metadata": {},
   "outputs": [
    {
     "name": "stdout",
     "output_type": "stream",
     "text": [
      "9\n"
     ]
    }
   ],
   "source": [
    "x=3\n",
    "print(x**2)# raise to power is given as **. e.g 4**3 means 4 raised to power 3"
   ]
  },
  {
   "cell_type": "code",
   "execution_count": null,
   "id": "053f3d49",
   "metadata": {},
   "outputs": [],
   "source": []
  }
 ],
 "metadata": {
  "kernelspec": {
   "display_name": "Python 3 (ipykernel)",
   "language": "python",
   "name": "python3"
  },
  "language_info": {
   "codemirror_mode": {
    "name": "ipython",
    "version": 3
   },
   "file_extension": ".py",
   "mimetype": "text/x-python",
   "name": "python",
   "nbconvert_exporter": "python",
   "pygments_lexer": "ipython3",
   "version": "3.11.5"
  }
 },
 "nbformat": 4,
 "nbformat_minor": 5
}
