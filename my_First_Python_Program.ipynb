{
 "cells": [
  {
   "cell_type": "markdown",
   "id": "12fedadb",
   "metadata": {},
   "source": [
    "# Introduction to Variables"
   ]
  },
  {
   "cell_type": "code",
   "execution_count": 15,
   "id": "26238310",
   "metadata": {},
   "outputs": [
    {
     "name": "stdout",
     "output_type": "stream",
     "text": [
      "Hello World I love Pyhton Programming\n"
     ]
    }
   ],
   "source": [
    "print(\"Hello World I love Pyhton Programming\") \n",
    "#this program displays hello world\n",
    "#but I dont like comment in python\"\"\""
   ]
  },
  {
   "cell_type": "code",
   "execution_count": null,
   "id": "8d2c9dfb",
   "metadata": {},
   "outputs": [],
   "source": []
  },
  {
   "cell_type": "code",
   "execution_count": 5,
   "id": "3d1153a2",
   "metadata": {},
   "outputs": [],
   "source": [
    "greeting = \"Hello World I love Python\"\n"
   ]
  },
  {
   "cell_type": "code",
   "execution_count": 6,
   "id": "74d4f185",
   "metadata": {},
   "outputs": [
    {
     "name": "stdout",
     "output_type": "stream",
     "text": [
      "Hello World I love Python\n"
     ]
    }
   ],
   "source": [
    "print(greeting)"
   ]
  },
  {
   "cell_type": "code",
   "execution_count": 7,
   "id": "3b3968ee",
   "metadata": {},
   "outputs": [
    {
     "data": {
      "text/plain": [
       "'Hello World I love Python'"
      ]
     },
     "execution_count": 7,
     "metadata": {},
     "output_type": "execute_result"
    }
   ],
   "source": [
    "greeting\n"
   ]
  },
  {
   "cell_type": "code",
   "execution_count": 9,
   "id": "ede73c56",
   "metadata": {},
   "outputs": [
    {
     "name": "stdout",
     "output_type": "stream",
     "text": [
      "Ade Hello World I love Python\n"
     ]
    }
   ],
   "source": [
    "print(\"Ade\", greeting)"
   ]
  },
  {
   "cell_type": "code",
   "execution_count": null,
   "id": "2e131bb5",
   "metadata": {},
   "outputs": [],
   "source": [
    "R"
   ]
  }
 ],
 "metadata": {
  "kernelspec": {
   "display_name": "Python 3 (ipykernel)",
   "language": "python",
   "name": "python3"
  },
  "language_info": {
   "codemirror_mode": {
    "name": "ipython",
    "version": 3
   },
   "file_extension": ".py",
   "mimetype": "text/x-python",
   "name": "python",
   "nbconvert_exporter": "python",
   "pygments_lexer": "ipython3",
   "version": "3.11.5"
  }
 },
 "nbformat": 4,
 "nbformat_minor": 5
}
